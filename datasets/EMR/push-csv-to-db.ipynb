{
 "cells": [
  {
   "cell_type": "code",
   "execution_count": 1,
   "metadata": {},
   "outputs": [],
   "source": [
    "import pandas as pd\n",
    "import pyodbc"
   ]
  },
  {
   "cell_type": "markdown",
   "metadata": {},
   "source": [
    "Driver={ODBC Driver 18 for SQL Server};Server=tcp:trendytech-pharma-sql.database.windows.net,1433;Database=trendytech_hospital_a;Uid=soniav762;Pwd={your_password_here};Encrypt=yes;TrustServerCertificate=no;Connection Timeout=30;"
   ]
  },
  {
   "cell_type": "code",
   "execution_count": 2,
   "metadata": {},
   "outputs": [],
   "source": [
    "# Step 1: Define connection details\n",
    "server = 'trendytech-pharma-sql.database.windows.net'  # Replace with your server name\n",
    "database = 'trendytech_hospital_a'                   # Replace with your database name\n",
    "username = 'soniav762'                   # Replace with your username\n",
    "password = 'trendytech_123'                   # Replace with your password\n",
    "driver = '{ODBC Driver 18 for SQL Server}'   # Use the installed driver name\n",
    "\n",
    "conn_str = f'DRIVER={driver};SERVER={server};PORT=1433;DATABASE={database};UID={username};PWD={password}'"
   ]
  },
  {
   "cell_type": "code",
   "execution_count": 3,
   "metadata": {},
   "outputs": [
    {
     "ename": "OperationalError",
     "evalue": "('08001', '[08001] [Microsoft][ODBC Driver 18 for SQL Server]TCP Provider: Timeout error [258].  (258) (SQLDriverConnect); [08001] [Microsoft][ODBC Driver 18 for SQL Server]Login timeout expired (0); [08001] [Microsoft][ODBC Driver 18 for SQL Server]Invalid connection string attribute (0); [08001] [Microsoft][ODBC Driver 18 for SQL Server]Unable to complete login process due to delay in login response (258)')",
     "output_type": "error",
     "traceback": [
      "\u001b[1;31m---------------------------------------------------------------------------\u001b[0m",
      "\u001b[1;31mOperationalError\u001b[0m                          Traceback (most recent call last)",
      "Cell \u001b[1;32mIn[3], line 2\u001b[0m\n\u001b[0;32m      1\u001b[0m \u001b[38;5;66;03m# Step 2: Connect to the database\u001b[39;00m\n\u001b[1;32m----> 2\u001b[0m conn \u001b[38;5;241m=\u001b[39m \u001b[43mpyodbc\u001b[49m\u001b[38;5;241;43m.\u001b[39;49m\u001b[43mconnect\u001b[49m\u001b[43m(\u001b[49m\u001b[43mconn_str\u001b[49m\u001b[43m)\u001b[49m\n\u001b[0;32m      3\u001b[0m cursor \u001b[38;5;241m=\u001b[39m conn\u001b[38;5;241m.\u001b[39mcursor()\n\u001b[0;32m      5\u001b[0m \u001b[38;5;66;03m# Query to list tables and schemas\u001b[39;00m\n",
      "\u001b[1;31mOperationalError\u001b[0m: ('08001', '[08001] [Microsoft][ODBC Driver 18 for SQL Server]TCP Provider: Timeout error [258].  (258) (SQLDriverConnect); [08001] [Microsoft][ODBC Driver 18 for SQL Server]Login timeout expired (0); [08001] [Microsoft][ODBC Driver 18 for SQL Server]Invalid connection string attribute (0); [08001] [Microsoft][ODBC Driver 18 for SQL Server]Unable to complete login process due to delay in login response (258)')"
     ]
    }
   ],
   "source": [
    "# Step 2: Connect to the database\n",
    "conn = pyodbc.connect(conn_str)\n",
    "cursor = conn.cursor()\n",
    "\n",
    "# Query to list tables and schemas\n",
    "query = \"\"\"\n",
    "SELECT \n",
    "    TABLE_SCHEMA,\n",
    "    TABLE_NAME\n",
    "FROM \n",
    "    INFORMATION_SCHEMA.TABLES\n",
    "WHERE \n",
    "    TABLE_TYPE = 'BASE TABLE'\n",
    "ORDER BY \n",
    "    TABLE_SCHEMA, TABLE_NAME;\n",
    "\"\"\"\n",
    "\n",
    "# Execute the query\n",
    "cursor.execute(query)\n",
    "\n",
    "# Fetch and print results\n",
    "tables = cursor.fetchall()\n",
    "for schema, table in tables:\n",
    "    print(f\"{schema}.{table}\")"
   ]
  },
  {
   "cell_type": "code",
   "execution_count": null,
   "metadata": {},
   "outputs": [],
   "source": [
    "table_name = 'dbo.a_encounters'"
   ]
  },
  {
   "cell_type": "code",
   "execution_count": 12,
   "metadata": {},
   "outputs": [
    {
     "name": "stdout",
     "output_type": "stream",
     "text": [
      "Data uploaded successfully!\n"
     ]
    }
   ],
   "source": [
    "# Step 2: Connect to the database\n",
    "conn = pyodbc.connect(conn_str)\n",
    "cursor = conn.cursor()\n",
    "\n",
    "# Step 3: Read the CSV file\n",
    "file_path = 'F:/Job Hunt 24-25/Practice/Azure_DE_Handson/datasets/EMR/trendytech-hospital-a/encounters.csv'  # Replace with your file path\n",
    "df = pd.read_csv(file_path)\n",
    "\n",
    "# Step 4: Insert data into the database\n",
    "for index, row in df.iterrows():\n",
    "    sql_query = f\"\"\"\n",
    "    INSERT INTO {table_name} (EncounterID, PatientID, EncounterDate, EncounterType, ProviderID, DepartmentID, ProcedureCode, InsertedDate, ModifiedDate)\n",
    "    VALUES (?, ?, ?, ?, ?, ?, ?, ?, ?)\n",
    "    \"\"\"\n",
    "    cursor.execute(sql_query, tuple(row))\n",
    "\n",
    "# Commit the transaction and close the connection\n",
    "conn.commit()\n",
    "cursor.close()\n",
    "conn.close()\n",
    "\n",
    "print(\"Data uploaded successfully!\")\n"
   ]
  },
  {
   "cell_type": "code",
   "execution_count": null,
   "metadata": {},
   "outputs": [],
   "source": [
    "table_name = 'dbo.a_patients'"
   ]
  },
  {
   "cell_type": "code",
   "execution_count": 20,
   "metadata": {},
   "outputs": [
    {
     "name": "stdout",
     "output_type": "stream",
     "text": [
      "Data uploaded successfully!\n"
     ]
    }
   ],
   "source": [
    "# Step 2: Connect to the database\n",
    "conn = pyodbc.connect(conn_str)\n",
    "cursor = conn.cursor()\n",
    "\n",
    "# Step 3: Read the CSV file\n",
    "file_path = 'F:/Job Hunt 24-25/Practice/Azure_DE_Handson/datasets/EMR/trendytech-hospital-a/patients.csv'  # Replace with your file path\n",
    "df = pd.read_csv(file_path)\n",
    "# df.head()\n",
    "\n",
    "# Step 4: Insert data into the database\n",
    "for index, row in df.iterrows():\n",
    "    sql_query = f\"\"\"\n",
    "    INSERT INTO {table_name} (PatientID,FirstName,LastName,MiddleName,SSN,PhoneNumber,Gender,DOB,Address,ModifiedDate)\n",
    "    VALUES (?, ?, ?, ?, ?, ?, ?, ?, ?, ?)\n",
    "    \"\"\"\n",
    "    cursor.execute(sql_query, tuple(row))\n",
    "\n",
    "# Commit the transaction and close the connection\n",
    "conn.commit()\n",
    "cursor.close()\n",
    "conn.close()\n",
    "\n",
    "print(\"Data uploaded successfully!\")\n"
   ]
  },
  {
   "cell_type": "code",
   "execution_count": 21,
   "metadata": {},
   "outputs": [],
   "source": [
    "table_name = 'dbo.a_providers'"
   ]
  },
  {
   "cell_type": "code",
   "execution_count": 22,
   "metadata": {},
   "outputs": [
    {
     "name": "stdout",
     "output_type": "stream",
     "text": [
      "Data uploaded successfully!\n"
     ]
    }
   ],
   "source": [
    "# Step 2: Connect to the database\n",
    "conn = pyodbc.connect(conn_str)\n",
    "cursor = conn.cursor()\n",
    "\n",
    "# Step 3: Read the CSV file\n",
    "file_path = 'F:/Job Hunt 24-25/Practice/Azure_DE_Handson/datasets/EMR/trendytech-hospital-a/providers.csv'  # Replace with your file path\n",
    "df = pd.read_csv(file_path)\n",
    "# df.head()\n",
    "\n",
    "# Step 4: Insert data into the database\n",
    "for index, row in df.iterrows():\n",
    "    sql_query = f\"\"\"\n",
    "    INSERT INTO {table_name} (ProviderID,FirstName,LastName,Specialization,DeptID,NPI)\n",
    "    VALUES (?, ?, ?, ?, ?, ?)\n",
    "    \"\"\"\n",
    "    cursor.execute(sql_query, tuple(row))\n",
    "\n",
    "# Commit the transaction and close the connection\n",
    "conn.commit()\n",
    "cursor.close()\n",
    "conn.close()\n",
    "\n",
    "print(\"Data uploaded successfully!\")\n"
   ]
  },
  {
   "cell_type": "code",
   "execution_count": 23,
   "metadata": {},
   "outputs": [],
   "source": [
    "table_name = 'dbo.a_transactions'"
   ]
  },
  {
   "cell_type": "code",
   "execution_count": 26,
   "metadata": {},
   "outputs": [
    {
     "name": "stdout",
     "output_type": "stream",
     "text": [
      "Data uploaded successfully!\n"
     ]
    }
   ],
   "source": [
    "# Step 2: Connect to the database\n",
    "conn = pyodbc.connect(conn_str)\n",
    "cursor = conn.cursor()\n",
    "\n",
    "# Step 3: Read the CSV file\n",
    "file_path = 'F:/Job Hunt 24-25/Practice/Azure_DE_Handson/datasets/EMR/trendytech-hospital-a/transactions.csv'  # Replace with your file path\n",
    "df = pd.read_csv(file_path)\n",
    "# df.head()\n",
    "\n",
    "# Step 4: Insert data into the database\n",
    "for index, row in df.iterrows():\n",
    "    sql_query = f\"\"\"\n",
    "    INSERT INTO {table_name} (TransactionID,EncounterID,PatientID,ProviderID,DeptID,VisitDate,ServiceDate,PaidDate,VisitType,Amount,AmountType,PaidAmount,ClaimID,PayorID,ProcedureCode,ICDCode,LineOfBusiness,MedicaidID,MedicareID,InsertDate,ModifiedDate)\n",
    "    VALUES (?, ?, ?, ?, ?, ?, ?, ?, ?, ?, ?, ?, ?, ?, ?, ?, ?, ?, ?, ?, ?)\n",
    "    \"\"\"\n",
    "    cursor.execute(sql_query, tuple(row))\n",
    "\n",
    "# Commit the transaction and close the connection\n",
    "conn.commit()\n",
    "cursor.close()\n",
    "conn.close()\n",
    "\n",
    "print(\"Data uploaded successfully!\")\n"
   ]
  },
  {
   "cell_type": "code",
   "execution_count": 27,
   "metadata": {},
   "outputs": [],
   "source": [
    "table_name = 'dbo.b_departments'"
   ]
  },
  {
   "cell_type": "code",
   "execution_count": 28,
   "metadata": {},
   "outputs": [
    {
     "name": "stdout",
     "output_type": "stream",
     "text": [
      "Data uploaded successfully!\n"
     ]
    }
   ],
   "source": [
    "# Step 2: Connect to the database\n",
    "conn = pyodbc.connect(conn_str)\n",
    "cursor = conn.cursor()\n",
    "\n",
    "# Step 3: Read the CSV file\n",
    "file_path = 'F:/Job Hunt 24-25/Practice/Azure_DE_Handson/datasets/EMR/trendytech-hospital-b/departments.csv'  # Replace with your file path\n",
    "df = pd.read_csv(file_path)\n",
    "\n",
    "# Step 4: Insert data into the database\n",
    "for index, row in df.iterrows():\n",
    "    sql_query = f\"\"\"\n",
    "    INSERT INTO {table_name} (DeptID,Name)\n",
    "    VALUES (?, ?)\n",
    "    \"\"\"\n",
    "    cursor.execute(sql_query, tuple(row))\n",
    "\n",
    "# Commit the transaction and close the connection\n",
    "conn.commit()\n",
    "cursor.close()\n",
    "conn.close()\n",
    "\n",
    "print(\"Data uploaded successfully!\")\n"
   ]
  },
  {
   "cell_type": "code",
   "execution_count": 30,
   "metadata": {},
   "outputs": [],
   "source": [
    "table_name = 'dbo.b_encounters'"
   ]
  },
  {
   "cell_type": "code",
   "execution_count": 31,
   "metadata": {},
   "outputs": [
    {
     "name": "stdout",
     "output_type": "stream",
     "text": [
      "Data uploaded successfully!\n"
     ]
    }
   ],
   "source": [
    "# Step 2: Connect to the database\n",
    "conn = pyodbc.connect(conn_str)\n",
    "cursor = conn.cursor()\n",
    "\n",
    "# Step 3: Read the CSV file\n",
    "file_path = 'F:/Job Hunt 24-25/Practice/Azure_DE_Handson/datasets/EMR/trendytech-hospital-b/encounters.csv'  # Replace with your file path\n",
    "df = pd.read_csv(file_path)\n",
    "\n",
    "# Step 4: Insert data into the database\n",
    "for index, row in df.iterrows():\n",
    "    sql_query = f\"\"\"\n",
    "    INSERT INTO {table_name} (EncounterID,PatientID,EncounterDate,EncounterType,ProviderID,DepartmentID,ProcedureCode,InsertedDate,ModifiedDate)\n",
    "    VALUES (?, ?, ?, ?, ?, ?, ?, ?, ?)\n",
    "    \"\"\"\n",
    "    cursor.execute(sql_query, tuple(row))\n",
    "\n",
    "# Commit the transaction and close the connection\n",
    "conn.commit()\n",
    "cursor.close()\n",
    "conn.close()\n",
    "\n",
    "print(\"Data uploaded successfully!\")\n"
   ]
  },
  {
   "cell_type": "code",
   "execution_count": 42,
   "metadata": {},
   "outputs": [],
   "source": [
    "table_name = 'dbo.b_patients'"
   ]
  },
  {
   "cell_type": "code",
   "execution_count": 43,
   "metadata": {},
   "outputs": [
    {
     "ename": "ProgrammingError",
     "evalue": "('42000', '[42000] [Microsoft][ODBC Driver 18 for SQL Server][SQL Server]The incoming tabular data stream (TDS) remote procedure call (RPC) protocol stream is incorrect. Parameter 5 (\"\"): The supplied value is not a valid instance of data type float. Check the source data for invalid values. An example of an invalid value is data of numeric type with scale greater than precision. (8023) (SQLExecDirectW)')",
     "output_type": "error",
     "traceback": [
      "\u001b[1;31m---------------------------------------------------------------------------\u001b[0m",
      "\u001b[1;31mProgrammingError\u001b[0m                          Traceback (most recent call last)",
      "Cell \u001b[1;32mIn[43], line 16\u001b[0m\n\u001b[0;32m     11\u001b[0m \u001b[38;5;28;01mfor\u001b[39;00m index, row \u001b[38;5;129;01min\u001b[39;00m df\u001b[38;5;241m.\u001b[39miterrows():\n\u001b[0;32m     12\u001b[0m     sql_query \u001b[38;5;241m=\u001b[39m \u001b[38;5;124mf\u001b[39m\u001b[38;5;124m\"\"\"\u001b[39m\n\u001b[0;32m     13\u001b[0m \u001b[38;5;124m    INSERT INTO \u001b[39m\u001b[38;5;132;01m{\u001b[39;00mtable_name\u001b[38;5;132;01m}\u001b[39;00m\u001b[38;5;124m (ID,F_Name,L_Name,M_Name,SSN,PhoneNumber,Gender,DOB,Address,Updated_Date)\u001b[39m\n\u001b[0;32m     14\u001b[0m \u001b[38;5;124m    VALUES (?, ?, ?, ?, ?, ?, ?, ?, ?, ?)\u001b[39m\n\u001b[0;32m     15\u001b[0m \u001b[38;5;124m    \u001b[39m\u001b[38;5;124m\"\"\"\u001b[39m\n\u001b[1;32m---> 16\u001b[0m     \u001b[43mcursor\u001b[49m\u001b[38;5;241;43m.\u001b[39;49m\u001b[43mexecute\u001b[49m\u001b[43m(\u001b[49m\u001b[43msql_query\u001b[49m\u001b[43m,\u001b[49m\u001b[43m \u001b[49m\u001b[38;5;28;43mtuple\u001b[39;49m\u001b[43m(\u001b[49m\u001b[43mrow\u001b[49m\u001b[43m)\u001b[49m\u001b[43m)\u001b[49m\n\u001b[0;32m     18\u001b[0m \u001b[38;5;66;03m# Commit the transaction and close the connection\u001b[39;00m\n\u001b[0;32m     19\u001b[0m conn\u001b[38;5;241m.\u001b[39mcommit()\n",
      "\u001b[1;31mProgrammingError\u001b[0m: ('42000', '[42000] [Microsoft][ODBC Driver 18 for SQL Server][SQL Server]The incoming tabular data stream (TDS) remote procedure call (RPC) protocol stream is incorrect. Parameter 5 (\"\"): The supplied value is not a valid instance of data type float. Check the source data for invalid values. An example of an invalid value is data of numeric type with scale greater than precision. (8023) (SQLExecDirectW)')"
     ]
    }
   ],
   "source": [
    "# Step 2: Connect to the database\n",
    "conn = pyodbc.connect(conn_str)\n",
    "cursor = conn.cursor()\n",
    "\n",
    "# Step 3: Read the CSV file\n",
    "file_path = 'F:/Job Hunt 24-25/Practice/Azure_DE_Handson/datasets/EMR/trendytech-hospital-b/patients.csv'  # Replace with your file path\n",
    "df = pd.read_csv(file_path)\n",
    "# df.head()\n",
    "\n",
    "# Step 4: Insert data into the database\n",
    "for index, row in df.iterrows():\n",
    "    sql_query = f\"\"\"\n",
    "    INSERT INTO {table_name} (ID,F_Name,L_Name,M_Name,SSN,PhoneNumber,Gender,DOB,Address,Updated_Date)\n",
    "    VALUES (?, ?, ?, ?, ?, ?, ?, ?, ?, ?)\n",
    "    \"\"\"\n",
    "    cursor.execute(sql_query, tuple(row))\n",
    "\n",
    "# Commit the transaction and close the connection\n",
    "conn.commit()\n",
    "cursor.close()\n",
    "conn.close()\n",
    "\n",
    "print(\"Data uploaded successfully!\")\n"
   ]
  },
  {
   "cell_type": "code",
   "execution_count": null,
   "metadata": {},
   "outputs": [],
   "source": [
    "table_name = 'dbo.b_providers'"
   ]
  },
  {
   "cell_type": "code",
   "execution_count": null,
   "metadata": {},
   "outputs": [
    {
     "name": "stdout",
     "output_type": "stream",
     "text": [
      "Data uploaded successfully!\n"
     ]
    }
   ],
   "source": [
    "# Step 2: Connect to the database\n",
    "conn = pyodbc.connect(conn_str)\n",
    "cursor = conn.cursor()\n",
    "\n",
    "# Step 3: Read the CSV file\n",
    "file_path = 'F:/Job Hunt 24-25/Practice/Azure_DE_Handson/datasets/EMR/trendytech-hospital-b/providers.csv'  # Replace with your file path\n",
    "df = pd.read_csv(file_path)\n",
    "# df.head()\n",
    "\n",
    "# Step 4: Insert data into the database\n",
    "for index, row in df.iterrows():\n",
    "    sql_query = f\"\"\"\n",
    "    INSERT INTO {table_name} (ProviderID,FirstName,LastName,Specialization,DeptID,NPI)\n",
    "    VALUES (?, ?, ?, ?, ?, ?)\n",
    "    \"\"\"\n",
    "    cursor.execute(sql_query, tuple(row))\n",
    "\n",
    "# Commit the transaction and close the connection\n",
    "conn.commit()\n",
    "cursor.close()\n",
    "conn.close()\n",
    "\n",
    "print(\"Data uploaded successfully!\")\n"
   ]
  },
  {
   "cell_type": "code",
   "execution_count": null,
   "metadata": {},
   "outputs": [],
   "source": [
    "table_name = 'dbo.a_transactions'"
   ]
  },
  {
   "cell_type": "code",
   "execution_count": null,
   "metadata": {},
   "outputs": [
    {
     "name": "stdout",
     "output_type": "stream",
     "text": [
      "Data uploaded successfully!\n"
     ]
    }
   ],
   "source": [
    "# Step 2: Connect to the database\n",
    "conn = pyodbc.connect(conn_str)\n",
    "cursor = conn.cursor()\n",
    "\n",
    "# Step 3: Read the CSV file\n",
    "file_path = 'F:/Job Hunt 24-25/Practice/Azure_DE_Handson/datasets/EMR/trendytech-hospital-a/transactions.csv'  # Replace with your file path\n",
    "df = pd.read_csv(file_path)\n",
    "# df.head()\n",
    "\n",
    "# Step 4: Insert data into the database\n",
    "for index, row in df.iterrows():\n",
    "    sql_query = f\"\"\"\n",
    "    INSERT INTO {table_name} (TransactionID,EncounterID,PatientID,ProviderID,DeptID,VisitDate,ServiceDate,PaidDate,VisitType,Amount,AmountType,PaidAmount,ClaimID,PayorID,ProcedureCode,ICDCode,LineOfBusiness,MedicaidID,MedicareID,InsertDate,ModifiedDate)\n",
    "    VALUES (?, ?, ?, ?, ?, ?, ?, ?, ?, ?, ?, ?, ?, ?, ?, ?, ?, ?, ?, ?, ?)\n",
    "    \"\"\"\n",
    "    cursor.execute(sql_query, tuple(row))\n",
    "\n",
    "# Commit the transaction and close the connection\n",
    "conn.commit()\n",
    "cursor.close()\n",
    "conn.close()\n",
    "\n",
    "print(\"Data uploaded successfully!\")\n"
   ]
  }
 ],
 "metadata": {
  "kernelspec": {
   "display_name": "Python 3",
   "language": "python",
   "name": "python3"
  },
  "language_info": {
   "codemirror_mode": {
    "name": "ipython",
    "version": 3
   },
   "file_extension": ".py",
   "mimetype": "text/x-python",
   "name": "python",
   "nbconvert_exporter": "python",
   "pygments_lexer": "ipython3",
   "version": "3.11.9"
  }
 },
 "nbformat": 4,
 "nbformat_minor": 2
}
